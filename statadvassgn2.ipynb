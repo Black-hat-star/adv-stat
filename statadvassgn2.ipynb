{
 "cells": [
  {
   "cell_type": "raw",
   "id": "acae4370-8d54-4a28-828d-13aaf4c6842a",
   "metadata": {},
   "source": [
    "1)The Probability Density Function (PDF) is a concept in probability theory and statistics that describes the likelihood of a continuous random variable taking on a particular value.\n",
    "e.g normal distribution, continous uniform distribution,\n",
    "gamma distribution\n",
    "The Probability Mass Function (PMF) is a concept in probability theory and statistics that describes the likelihood of a discrete random variable taking on a particular value.\n",
    "e.g binomial ,poisson,hypergeometric distribution"
   ]
  },
  {
   "cell_type": "raw",
   "id": "6d5f030b-af05-4148-a423-fde4ba551ef4",
   "metadata": {},
   "source": [
    "2)The Cumulative Distribution Function (CDF) is a concept in probability theory that provides the probability that a random variable takes on a value less than or equal to a specified point. In other words, the CDF gives the cumulative probability distribution of a random variable."
   ]
  },
  {
   "cell_type": "raw",
   "id": "e21d2e46-d8e4-447f-b0fc-759f6d81fd93",
   "metadata": {
    "jp-MarkdownHeadingCollapsed": true,
    "tags": []
   },
   "source": [
    "3)Height of Individuals:\n",
    "\n",
    "Example: Heights of a population tend to follow a normal distribution, where most people cluster around the average height, and fewer individuals are exceptionally tall or short.\n",
    "\n",
    "Measurement Errors:\n",
    "\n",
    "Example: Errors in measurements, such as the length of an object or the weight of a product, are often assumed to be normally distributed.\n",
    "\n",
    "\n",
    "Mean:\n",
    "\n",
    "Determines the location of the center of the distribution.\n",
    "The highest point (peak) of the bell curve occurs at the mean.\n",
    "Shifting the mean to the right or left moves the entire distribution along the x-axis.\n",
    "Standard deviation:\n",
    "Measures the spread or dispersion of the distribution.\n",
    "A smaller standard deviation results in a narrower, taller curve.\n",
    "A larger standard deviation results in a wider, flatter curve.\n",
    "The standard deviation influences the shape and width of the bell curve."
   ]
  },
  {
   "cell_type": "raw",
   "id": "850849d3-670e-4b26-bd5d-df7560da8c59",
   "metadata": {},
   "source": [
    "4)The maority of the data that we see in our real life are majorly normally distributed.The normal distribution allows for the standardization of data using z-scores, which express individual observations in terms of standard deviations from the mean. This facilitates the comparison of observations from different datasets and the establishment of common benchmarks.\n",
    "\n",
    "\n",
    "Height of Individuals:\n",
    "\n",
    "Example: Heights of a population tend to follow a normal distribution, where most people cluster around the average height, and fewer individuals are exceptionally tall or short.\n",
    "\n",
    "Measurement Errors:\n",
    "\n",
    "Example: Errors in measurements, such as the length of an object or the weight of a product, are often assumed to be normally distributed\n"
   ]
  },
  {
   "cell_type": "raw",
   "id": "c0386d63-2407-4e09-b204-62d20ce9f52f",
   "metadata": {},
   "source": [
    "5)The Bernoulli distribution is a discrete probability distribution that models a random experiment with only two possible outcomes: success (1)or failure (0).\n",
    "Number of Trials:\n",
    "Bernoulli Distribution:Models a single trial or experiment with two possible outcomes (success or failure).\n",
    "Binomial Distribution:Models the number of successes in a fixed number of independent and identical Bernoulli trials\n"
   ]
  },
  {
   "cell_type": "raw",
   "id": "2da2bfca-fb17-4833-999c-8a514c0b1d8c",
   "metadata": {},
   "source": [
    "7)The uniform distribution is a probability distribution where every possible outcome is equally likely. In other words, all values in the distribution have the same probability of occurring. The probability density function (PDF) of a continuous uniform distribution over the interval \n",
    "[a,b]is f(x)=1/b-a.\n",
    "\n",
    "Consider the experiment of rolling a fair six-sided die. The outcomes of this experiment are the numbers 1 through 6. If the die is fair, each outcome has an equal probability of 1/6"
   ]
  },
  {
   "cell_type": "raw",
   "id": "432fcc4a-ef73-4a01-a9a2-8f7294776cbf",
   "metadata": {},
   "source": [
    "8)The z-score (or standard score) is a measure of how many standard deviations a particular data point is from the mean of a distribution\n",
    "\n",
    "Standardization:\n",
    "\n",
    "The z-score is used to standardize data, making it easier to compare different datasets. By converting data points to z-scores, we transform the original data to a standard scale with a mean of 0 and a standard deviation of 1.\n",
    "\n",
    "Normal Distribution Comparison:\n",
    "\n",
    "In a standard normal distribution (a normal distribution with a mean of 0 and a standard deviation of 1), the z-score directly corresponds to the position of a data point within the distribution. This allows for easy comparison and interpretation."
   ]
  },
  {
   "cell_type": "raw",
   "id": "0293b87d-7c9c-4e67-a7a9-94ff4cd6ef7d",
   "metadata": {},
   "source": [
    "9)The Central Limit Theorem is a fundamental concept in probability and statistics that describes the distribution of sample means drawn from a population, regardless of the shape of the original population distribution. It states that, as the sample size increases, the distribution of the sample means approaches a normal distribution, regardless of the shape of the population distribution.\n",
    "\n",
    "\n",
    "Normality of Sample Means:\n",
    "\n",
    "The CLT explains why the sample means tend to follow a normal distribution, even if the original population distribution is not normal. This normality simplifies statistical analyses and allows for the use of standard normal distribution tables and statistical tests.\n",
    "Basis for Inference:\n",
    "\n",
    "The CLT is the foundation for many statistical inference techniques, such as hypothesis testing and confidence interval construction. It allows statisticians to make probabilistic statements about sample means and provides a basis for estimating population parameters.\n",
    "Sample Size Independence:\n",
    "\n",
    "The theorem is powerful because it does not depend on the shape of the population distribution. As long as the sample size is sufficiently large, the distribution of sample means will be approximately normal, providing a robust and widely applicable result."
   ]
  },
  {
   "cell_type": "raw",
   "id": "d5dd4947-dc51-4a70-b69c-c317fe0f96fe",
   "metadata": {},
   "source": [
    "10)Random Sampling:\n",
    "\n",
    "The data must be collected through a process of random sampling. Each member of the population has an equal chance of being included in the sample. This assumption ensures that the sample is representative of the population.\n",
    "Independence:\n",
    "\n",
    "The sampled observations must be independent of each other. The outcome of one observation should not influence the outcome of another. Independence is crucial for the validity of the CLT, and it is often assumed in practice through simple random sampling or random assignment.\n",
    "Sample Size:\n",
    "\n",
    "While the CLT does not specify a minimum sample size, it generally requires a sufficiently large sample size. As a rule of thumb, a sample size of ≥30 is often considered adequate for the CLT to be applicable. However, the larger the sample size, the better the approximation to a normal distribution."
   ]
  },
  {
   "cell_type": "code",
   "execution_count": null,
   "id": "d3924028-4c6b-4475-96e7-bd3c78771a8f",
   "metadata": {},
   "outputs": [],
   "source": []
  }
 ],
 "metadata": {
  "kernelspec": {
   "display_name": "Python 3 (ipykernel)",
   "language": "python",
   "name": "python3"
  },
  "language_info": {
   "codemirror_mode": {
    "name": "ipython",
    "version": 3
   },
   "file_extension": ".py",
   "mimetype": "text/x-python",
   "name": "python",
   "nbconvert_exporter": "python",
   "pygments_lexer": "ipython3",
   "version": "3.10.8"
  }
 },
 "nbformat": 4,
 "nbformat_minor": 5
}
