{
 "cells": [
  {
   "cell_type": "raw",
   "id": "38aee969-b41d-4c96-b09b-73e2704c618e",
   "metadata": {},
   "source": [
    "1)The Probability Density Function (PDF) is a concept in probability theory and statistics that describes the likelihood of a continuous random variable taking on a particular value. For a continuous random variable, the probability of it exactly equaling any single value is technically zero. Instead, the PDF provides the probability of the random variable falling within a particular range."
   ]
  },
  {
   "cell_type": "raw",
   "id": "21032ed3-9660-4350-826f-4352f6c6d783",
   "metadata": {},
   "source": [
    "2)The type of probability distribution are i)pdf(probability density function)\n",
    "ii)pmf(probability mass function)"
   ]
  },
  {
   "cell_type": "code",
   "execution_count": 1,
   "id": "14e07eff-bc05-41cd-a6f1-84b39dc00106",
   "metadata": {},
   "outputs": [
    {
     "name": "stdout",
     "output_type": "stream",
     "text": [
      "The PDF at x = 1 is: 0.24197072451914337\n"
     ]
    }
   ],
   "source": [
    "###3)\n",
    "import math\n",
    "def normal_pdf(x,mean,std_dev):\n",
    "    \n",
    "    exponent= -((x - mean) ** 2) / (2 * std_dev ** 2)\n",
    "    pdf = (1 / (std_dev * math.sqrt(2 * math.pi))) * math.exp(exponent)\n",
    "    return pdf\n",
    "mean_value=0\n",
    "std_dev_value=1\n",
    "point_to_evaluate=1\n",
    "\n",
    "pdf_at_point = normal_pdf(point_to_evaluate, mean_value, std_dev_value)\n",
    "print(f\"The PDF at x = {point_to_evaluate} is: {pdf_at_point}\")"
   ]
  },
  {
   "cell_type": "raw",
   "id": "9c1092e0-0503-422d-b463-d6b6bbb1e58f",
   "metadata": {},
   "source": [
    "4)Properties of binomial distribution are \n",
    "the sum of probability sucess and failure is always=1\n",
    "sucess is always the complementary of failure\n",
    "e.g tossing a coin and getting tail as an outcome,passing of student in an exam\n"
   ]
  },
  {
   "cell_type": "code",
   "execution_count": 2,
   "id": "706ba4fd-981f-4c50-961c-bc9f517b20c9",
   "metadata": {},
   "outputs": [
    {
     "data": {
      "image/png": "[encoded data removed]",
      "text/plain": [
       "<Figure size 640x480 with 1 Axes>"
      ]
     },
     "metadata": {},
     "output_type": "display_data"
    }
   ],
   "source": [
    "###5)\n",
    "import numpy as np\n",
    "import matplotlib.pyplot as plt\n",
    "\n",
    "probability_of_success = 0.4\n",
    "sample_size = 1000\n",
    "\n",
    "random_sample = np.random.binomial(n=1, p=probability_of_success, size=sample_size)\n",
    "plt.hist(random_sample, bins=[-0.5, 0.5, 1.5], edgecolor='black')  \n",
    "plt.title(f'Binomial Distribution with p={probability_of_success}')\n",
    "plt.xlabel('Outcome (0: Failure, 1: Success)')\n",
    "plt.ylabel('Frequency')\n",
    "plt.show()"
   ]
  },
  {
   "cell_type": "code",
   "execution_count": 4,
   "id": "f6c91425-54dd-4b36-b260-fd6d7f40e31a",
   "metadata": {},
   "outputs": [
    {
     "name": "stdout",
     "output_type": "stream",
     "text": [
      "The CDF at k = 3 is: 0.8571234604985472\n"
     ]
    }
   ],
   "source": [
    "###6)\n",
    "import math\n",
    "def poisson_cdf(k,mean):\n",
    "    cdf=0\n",
    "    for i in range(k+1):\n",
    "        cdf+=math.exp(-mean) *(mean**i)/math.factorial(i)\n",
    "    return cdf\n",
    "mean_value=2\n",
    "point_to_evaluate=3\n",
    "cdf_at_point = poisson_cdf(point_to_evaluate, mean_value)\n",
    "print(f\"The CDF at k = {point_to_evaluate} is: {cdf_at_point}\")"
   ]
  },
  {
   "cell_type": "raw",
   "id": "a0f2f94d-f1d6-46b7-8ae4-48510bc4cb4f",
   "metadata": {},
   "source": [
    "7)Poisson distribution is a special case of binomial distribution when the sucess probability becomes very small and the number of trials becomes very large then the trial changes from binomial to poisson "
   ]
  },
  {
   "cell_type": "code",
   "execution_count": 5,
   "id": "ba93abed-e2a9-4b32-8041-6fab19996a4d",
   "metadata": {},
   "outputs": [
    {
     "name": "stdout",
     "output_type": "stream",
     "text": [
      "Sample Mean: 4.972\n",
      "Sample Variance: 4.886102102102101\n"
     ]
    }
   ],
   "source": [
    "###8)\n",
    "import numpy as np\n",
    "\n",
    "# Set the parameters for the Poisson distribution\n",
    "mean_value = 5\n",
    "sample_size = 1000\n",
    "\n",
    "# Generate a random sample from a Poisson distribution\n",
    "random_sample = np.random.poisson(mean_value, size=sample_size)\n",
    "\n",
    "# Calculate the sample mean and variance\n",
    "sample_mean = np.mean(random_sample)\n",
    "sample_variance = np.var(random_sample, ddof=1)  # ddof=1 for sample variance\n",
    "\n",
    "print(f\"Sample Mean: {sample_mean}\")\n",
    "print(f\"Sample Variance: {sample_variance}\")\n",
    "\n",
    "\n"
   ]
  },
  {
   "cell_type": "raw",
   "id": "c5218a44-6f56-4251-a5aa-523ba619b5f6",
   "metadata": {},
   "source": [
    "9) In binomial distribution mean=np where n is the number of trials and p is the sucss probability\n",
    "and variance =npq\n",
    "In poisson distribution mean=variance=lambda"
   ]
  },
  {
   "cell_type": "raw",
   "id": "33a12ade-b86b-45c2-8b07-e7cc3776fe55",
   "metadata": {},
   "source": [
    "10)With respect to mesn poisition the least frequesnt daata appear to the leftmost and to the rightmost place from the mean"
   ]
  },
  {
   "cell_type": "code",
   "execution_count": null,
   "id": "379f0e60-d797-4951-9300-68b5db620df9",
   "metadata": {},
   "outputs": [],
   "source": []
  }
 ],
 "metadata": {
  "kernelspec": {
   "display_name": "Python 3 (ipykernel)",
   "language": "python",
   "name": "python3"
  },
  "language_info": {
   "codemirror_mode": {
    "name": "ipython",
    "version": 3
   },
   "file_extension": ".py",
   "mimetype": "text/x-python",
   "name": "python",
   "nbconvert_exporter": "python",
   "pygments_lexer": "ipython3",
   "version": "3.10.8"
  }
 },
 "nbformat": 4,
 "nbformat_minor": 5
}
